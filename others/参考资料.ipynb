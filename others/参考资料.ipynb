{
 "cells": [
  {
   "cell_type": "markdown",
   "metadata": {
    "collapsed": true
   },
   "source": [
    "https://my.oschina.net/u/3800567/blog/1637798  tensorflow数据输入</br>\n",
    "https://blog.csdn.net/qq_31622541/article/details/81128854 猫狗识别"
   ]
  },
  {
   "cell_type": "markdown",
   "metadata": {},
   "source": [
    "# 项目进度\n",
    "## ck+数据集模型\n",
    "在ck+数据集上，图片下采样到64*64分辨率，训练到500步，其准确率就已经达到93.%，主要原因是ck+数据集中重复数据过多，模型识别率可以很高。调研后发现ck+数据集主要是拿来当测试集，主流的训练测试集为fer2013。\n",
    "\n",
    "```\n",
    "0 accuracy= 0.21875\n",
    "100 accuracy= 0.78125\n",
    "200 accuracy= 0.8125\n",
    "300 accuracy= 0.9375\n",
    "400 accuracy= 0.9375\n",
    "500 accuracy= 0.90625\n",
    "end!\n",
    "```"
   ]
  },
  {
   "cell_type": "markdown",
   "metadata": {},
   "source": [
    "## "
   ]
  }
 ],
 "metadata": {
  "kernelspec": {
   "display_name": "Python 2",
   "language": "python",
   "name": "python2"
  },
  "language_info": {
   "codemirror_mode": {
    "name": "ipython",
    "version": 2
   },
   "file_extension": ".py",
   "mimetype": "text/x-python",
   "name": "python",
   "nbconvert_exporter": "python",
   "pygments_lexer": "ipython2",
   "version": "2.7.6"
  }
 },
 "nbformat": 4,
 "nbformat_minor": 0
}
